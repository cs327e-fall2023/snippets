{
 "cells": [
  {
   "cell_type": "markdown",
   "id": "a04117d5-e5e4-4f07-9907-6cfd76061f31",
   "metadata": {},
   "source": [
    "#### Milestone 1 MongoDB Code Samples"
   ]
  },
  {
   "cell_type": "code",
   "execution_count": 4,
   "id": "8fe799de-6741-465f-88ee-9cf1daab472b",
   "metadata": {},
   "outputs": [],
   "source": [
    "HOST = \"10.128.0.5\"\n",
    "PORT = \"27017\"\n",
    "DB = \"final_project\""
   ]
  },
  {
   "cell_type": "code",
   "execution_count": 5,
   "id": "4449cef5-2ca7-4a30-bc7f-9e3da90ae72b",
   "metadata": {},
   "outputs": [],
   "source": [
    "from pymongo import MongoClient\n",
    "\n",
    "def connect():\n",
    "    url = \"mongodb://{}:{}\".format(HOST, PORT)\n",
    "    connection = MongoClient(url)\n",
    "    print(connection)\n",
    "    return connection[DB]"
   ]
  },
  {
   "cell_type": "markdown",
   "id": "9f3488d5-ff27-4f40-af06-a8a69a1f60fb",
   "metadata": {},
   "source": [
    "##### 1. Test connection"
   ]
  },
  {
   "cell_type": "code",
   "execution_count": 6,
   "id": "59515791-718d-4088-b0a9-0e281211fdb5",
   "metadata": {},
   "outputs": [
    {
     "name": "stdout",
     "output_type": "stream",
     "text": [
      "MongoClient(host=['10.128.0.5:27017'], document_class=dict, tz_aware=False, connect=True)\n",
      "Database(MongoClient(host=['10.128.0.5:27017'], document_class=dict, tz_aware=False, connect=True), 'final_project')\n"
     ]
    }
   ],
   "source": [
    "connection = connect()\n",
    "\n",
    "print(connection)"
   ]
  },
  {
   "cell_type": "markdown",
   "id": "800e70de-b4d5-4306-9161-1a849da60c53",
   "metadata": {},
   "source": [
    "##### 2. Write records into collection"
   ]
  },
  {
   "cell_type": "code",
   "execution_count": null,
   "id": "e0ed03b8-ce94-4071-a89d-538beccbca37",
   "metadata": {},
   "outputs": [
    {
     "name": "stdout",
     "output_type": "stream",
     "text": [
      "MongoClient(host=['10.128.0.5:27017'], document_class=dict, tz_aware=False, connect=True)\n"
     ]
    }
   ],
   "source": [
    "from pymongo import MongoClient\n",
    "\n",
    "rec1 = {\n",
    "  \"first_name\" : \"James\",\n",
    "  \"last_name\" : \"Butt Benton\",\n",
    "  \"company\" : \"John B Jr\",\n",
    "  \"address\" : \"6649 N Blue Gum St\", \n",
    "  \"city\" : \"New Orleans\", \n",
    "  \"county\" : \"Orleans\", \n",
    "  \"state\" : \"LA\", \n",
    "  \"zip\" : \"70116\",\n",
    "  \"phone_1\" : \"504-621-8927\",\n",
    "  \"phone_2\" : \"504-845-1427\",\n",
    "  \"email\" : \"jbutt@gmail.com\", \n",
    "  \"web\" : \"http://www.bentonjohnbjr.com\" \n",
    "}\n",
    "\n",
    "rec2 = {\n",
    "  \"first_name\" : \"Josephine\",\n",
    "  \"last_name\" : \"Darakjy Chanay\",\n",
    "  \"company\" : \"Jeffrey A Esq\",\n",
    "  \"address\" : \"4 B Blue Ridge Blvd\", \n",
    "  \"city\" : \"Brighton\", \n",
    "  \"county\" : \"Livingston\", \n",
    "  \"state\" : \"MI\", \n",
    "  \"zip\" : \"48116\",\n",
    "  \"phone_1\" : \"810-292-9388\",\n",
    "  \"phone_2\" : \"810-374-9840\",\n",
    "  \"email\" : \"josephine_darakjy@darakjy.org\", \n",
    "  \"web\" : \"http://www.chanayjeffreyaesq.com\" \n",
    "}\n",
    "\n",
    "rec3 = {\n",
    "  \"first_name\" : \"Art\",\n",
    "  \"last_name\" : \"Venere\",\n",
    "  \"company\" : \"Chemel, James L Cpa\",\n",
    "  \"address\" : \"8 W Cerritos Ave #54\", \n",
    "  \"city\" : \"Bridgeport\", \n",
    "  \"county\" : \"Gloucester\", \n",
    "  \"state\" : \"NJ\", \n",
    "  \"zip\" : \"08014\",\n",
    "  \"phone_1\" : \"856-636-8749\",\n",
    "  \"phone_2\" : \"856-264-4130\",\n",
    "  \"email\" : \"art@venere.org\", \n",
    "  \"web\" : \"http://www.chemeljameslcpa.com\" \n",
    "}\n",
    "\n",
    "try:\n",
    "    connection = connect()\n",
    "    collection = connection[\"person\"]\n",
    "    collection.insert_many([rec1, rec2, rec3])\n",
    "    print(\"Wrote 3 documents into collection\")\n",
    "except Exception as e:\n",
    "    print(\"Error occurred while writing documents:\", e)"
   ]
  },
  {
   "cell_type": "code",
   "execution_count": null,
   "id": "d22c114c-a215-4ceb-972c-5ef6cf5f7331",
   "metadata": {},
   "outputs": [],
   "source": []
  }
 ],
 "metadata": {
  "environment": {
   "kernel": "conda-root-py",
   "name": "workbench-notebooks.m110",
   "type": "gcloud",
   "uri": "gcr.io/deeplearning-platform-release/workbench-notebooks:m110"
  },
  "kernelspec": {
   "display_name": "Python 3",
   "language": "python",
   "name": "conda-root-py"
  },
  "language_info": {
   "codemirror_mode": {
    "name": "ipython",
    "version": 3
   },
   "file_extension": ".py",
   "mimetype": "text/x-python",
   "name": "python",
   "nbconvert_exporter": "python",
   "pygments_lexer": "ipython3",
   "version": "3.10.12"
  }
 },
 "nbformat": 4,
 "nbformat_minor": 5
}
