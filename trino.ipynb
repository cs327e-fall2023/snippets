{
 "cells": [
  {
   "cell_type": "markdown",
   "id": "6a2b2a62-beda-4a40-9b09-147797a82853",
   "metadata": {},
   "source": [
    "#### Final Project, Milestone 2\n",
    "###### Before running, replace the IP address below with your Trino VM's internal IP. Do not change the port number. \n",
    "###### Before running, start up your MySQL and Postgres Cloud SQL instances and make sure they are up before you try to connect to these databases."
   ]
  },
  {
   "cell_type": "code",
   "execution_count": 1,
   "id": "8852474c-68fe-42c0-97d3-fe6217c854a1",
   "metadata": {},
   "outputs": [],
   "source": [
    "URL=\"http://10.128.0.5:8080\""
   ]
  },
  {
   "cell_type": "code",
   "execution_count": 2,
   "id": "53a68757-b2e7-4a7d-807f-7938c2bb1250",
   "metadata": {},
   "outputs": [
    {
     "name": "stdout",
     "output_type": "stream",
     "text": [
      "\"bigquery\"\n",
      "\"mongo\"\n",
      "\"mysql\"\n",
      "\"postgres\"\n",
      "\"system\"\n",
      "\"tpch\"\n"
     ]
    }
   ],
   "source": [
    "!trino $URL --execute \"show catalogs\""
   ]
  },
  {
   "cell_type": "markdown",
   "id": "de02852c-1ac2-4a45-89c6-17121bda0dde",
   "metadata": {},
   "source": [
    "##### Querying MySQL through Trino:"
   ]
  },
  {
   "cell_type": "code",
   "execution_count": 4,
   "id": "1cc8cd2e-57ff-4846-abde-4d4168b2e650",
   "metadata": {},
   "outputs": [
    {
     "name": "stdout",
     "output_type": "stream",
     "text": [
      "\"college\"\n",
      "\"final_project\"\n",
      "\"information_schema\"\n",
      "\"performance_schema\"\n",
      "\"sakila\"\n"
     ]
    }
   ],
   "source": [
    "!trino $URL --execute \"show schemas from mysql\""
   ]
  },
  {
   "cell_type": "code",
   "execution_count": 5,
   "id": "2aff1e94-a876-4912-b407-d8eab49c8991",
   "metadata": {},
   "outputs": [
    {
     "name": "stdout",
     "output_type": "stream",
     "text": [
      "\"class\"\n",
      "\"instructor\"\n",
      "\"student\"\n",
      "\"teaches\"\n"
     ]
    }
   ],
   "source": [
    "!trino $URL --execute \"show tables from mysql.college\""
   ]
  },
  {
   "cell_type": "code",
   "execution_count": 8,
   "id": "7fda628e-1626-4123-ba66-5ff618fb36a3",
   "metadata": {},
   "outputs": [
    {
     "name": "stdout",
     "output_type": "stream",
     "text": [
      "\"aprilz      \",\"April\",\"Lopez\",\"\",\"CUR\"\n",
      "\"bzen26      \",\"Biswa\",\"Zen\",\"\",\"CUR\"\n",
      "\"dchen       \",\"David\",\"Chen\",\"\",\"PRO\"\n"
     ]
    }
   ],
   "source": [
    "!trino $URL --execute \"select * from mysql.college.student limit 3\""
   ]
  },
  {
   "cell_type": "markdown",
   "id": "2d5c6d10-2f56-4080-b434-f318570c233e",
   "metadata": {},
   "source": [
    "##### Note: If you experience problems retrieving the student records due to a date error, open the mysql shell and update the '0000-00-00' dates as follows:\n",
    "\n",
    "`update college.Student set dob = null WHERE CAST(dob AS CHAR(10)) = '0000-00-00'\"`"
   ]
  },
  {
   "cell_type": "markdown",
   "id": "6975be0b-22ab-4df2-947f-2541a4b3949c",
   "metadata": {},
   "source": [
    "##### Querying Postgres through Trino:"
   ]
  },
  {
   "cell_type": "code",
   "execution_count": 9,
   "id": "6a578e67-5ba1-49ea-9f52-56805aa8cd59",
   "metadata": {},
   "outputs": [
    {
     "name": "stdout",
     "output_type": "stream",
     "text": [
      "\"college\"\n",
      "\"final_project\"\n",
      "\"information_schema\"\n",
      "\"pagila\"\n",
      "\"pg_catalog\"\n",
      "\"public\"\n",
      "\"shopify\"\n"
     ]
    }
   ],
   "source": [
    "!trino $URL --execute \"show schemas from postgres\""
   ]
  },
  {
   "cell_type": "code",
   "execution_count": 10,
   "id": "b258b25c-855e-4952-a633-e611ca1ff1dc",
   "metadata": {},
   "outputs": [
    {
     "name": "stdout",
     "output_type": "stream",
     "text": [
      "\"class\"\n",
      "\"instructor\"\n",
      "\"student\"\n",
      "\"takes\"\n",
      "\"teaches\"\n"
     ]
    }
   ],
   "source": [
    "!trino $URL --execute \"show tables from postgres.college\""
   ]
  },
  {
   "cell_type": "code",
   "execution_count": 11,
   "id": "0a116f8e-a380-4e81-ba9d-686cc3d25f0d",
   "metadata": {},
   "outputs": [
    {
     "name": "stdout",
     "output_type": "stream",
     "text": [
      "\"CS327E\",\"Elements of Databases\",\"3\"\n",
      "\"CS347 \",\"Data Management\",\"3\"\n",
      "\"CS330E\",\"Elements of Software Engineering\",\"3\"\n"
     ]
    }
   ],
   "source": [
    "!trino $URL --execute \"select * from postgres.college.class limit 3\""
   ]
  },
  {
   "cell_type": "markdown",
   "id": "2930781c-db31-4a94-8181-34ada1dab0fc",
   "metadata": {},
   "source": [
    "##### Querying MongoDB through Trino:"
   ]
  },
  {
   "cell_type": "code",
   "execution_count": 13,
   "id": "281e4039-28e9-49d9-94f1-a82e7af26432",
   "metadata": {},
   "outputs": [
    {
     "name": "stdout",
     "output_type": "stream",
     "text": [
      "\"college\"\n",
      "\"final_project\"\n",
      "\"information_schema\"\n"
     ]
    }
   ],
   "source": [
    "!trino $URL --execute \"show schemas from mongo\""
   ]
  },
  {
   "cell_type": "code",
   "execution_count": 14,
   "id": "3fab9198-d915-4050-b9df-5f738d396336",
   "metadata": {},
   "outputs": [
    {
     "name": "stdout",
     "output_type": "stream",
     "text": [
      "\"takes\"\n"
     ]
    }
   ],
   "source": [
    "!trino $URL --execute \"show tables from mongo.college\""
   ]
  },
  {
   "cell_type": "code",
   "execution_count": 15,
   "id": "766bc80d-b402-4904-8b3f-11cdbb79efd8",
   "metadata": {},
   "outputs": [
    {
     "name": "stdout",
     "output_type": "stream",
     "text": [
      "\"kev18\",\"CS329E\"\n",
      "\"bzen26\",\"CS329E\"\n",
      "\"jc\",\"CS327E\"\n"
     ]
    }
   ],
   "source": [
    "!trino $URL --execute \"select * from mongo.college.takes limit 3\""
   ]
  },
  {
   "cell_type": "markdown",
   "id": "c68eb3fe-d0df-4098-8158-057c92a7d36c",
   "metadata": {},
   "source": [
    "##### Querying BigQuery through Trino:"
   ]
  },
  {
   "cell_type": "code",
   "execution_count": 16,
   "id": "b721eedf-ce13-4293-9714-83752f48d4a9",
   "metadata": {},
   "outputs": [
    {
     "name": "stdout",
     "output_type": "stream",
     "text": [
      "\"college\"\n",
      "\"final_project\"\n",
      "\"information_schema\"\n",
      "\"school_enrollments\"\n",
      "\"test\"\n"
     ]
    }
   ],
   "source": [
    "!trino $URL --execute \"show schemas from bigquery\""
   ]
  },
  {
   "cell_type": "code",
   "execution_count": 17,
   "id": "a59ce9d6-5fb2-40a4-b217-09bd6f6c80cf",
   "metadata": {},
   "outputs": [
    {
     "name": "stdout",
     "output_type": "stream",
     "text": [
      "\"class\"\n",
      "\"instructor\"\n",
      "\"instructor2\"\n",
      "\"student\"\n",
      "\"student_copy\"\n",
      "\"takes\"\n",
      "\"teaches\"\n",
      "\"v_enrollments\"\n"
     ]
    }
   ],
   "source": [
    "!trino $URL --execute \"show tables from bigquery.college\""
   ]
  },
  {
   "cell_type": "code",
   "execution_count": 18,
   "id": "8a5ebea3-78b7-42cc-baf7-6a66a0eca405",
   "metadata": {},
   "outputs": [
    {
     "name": "stdout",
     "output_type": "stream",
     "text": [
      "\"neeman\",\"Joe Neeman\",\"Mathematics\"\n",
      "\"koch\",\"Hans Koch\",\"Mathematics\"\n",
      "\"mueller\",\"Peter Mueller\",\"Mathematics\"\n"
     ]
    }
   ],
   "source": [
    "!trino $URL --execute \"select * from bigquery.college.instructor limit 3\""
   ]
  },
  {
   "cell_type": "markdown",
   "id": "35db0872-d552-4950-9de8-f17ae8659ac5",
   "metadata": {},
   "source": [
    "##### Putting it all together: joining across MySQL, Postgres, Mongo, and BigQuery"
   ]
  },
  {
   "cell_type": "code",
   "execution_count": 23,
   "id": "bd01b2b4-44bc-4ca6-b369-c97f79f05d80",
   "metadata": {},
   "outputs": [
    {
     "name": "stdout",
     "output_type": "stream",
     "text": [
      "\"bzen26      \",\"Biswa\",\"Zen\",\"\",\"CUR\",\"bzen26\",\"CS329E\",\"CS329E\",\"Elements of Web Programming\",\"3\",\"mitra\",\"CS329E\",\"mitra\",\"Shyamal Mitra\",\"Computer Science\"\n",
      "\"jc          \",\"James\",\"Cowe\",\"2000-04-22\",\"CUR\",\"jc\",\"CS327E\",\"CS327E\",\"Elements of Databases\",\"3\",\"scohen\",\"CS327E\",\"scohen\",\"Shirley Cohen\",\"Computer Science\"\n",
      "\"jerryh      \",\"Jerry\",\"Hargrove\",\"1999-01-03\",\"CUR\",\"jerryh\",\"CS329E\",\"CS329E\",\"Elements of Web Programming\",\"3\",\"mitra\",\"CS329E\",\"mitra\",\"Shyamal Mitra\",\"Computer Science\"\n"
     ]
    }
   ],
   "source": [
    "!trino $URL --execute \"select * from mysql.college.student s \\\n",
    "join mongo.college.takes ta on s.sid = ta.sid \\\n",
    "join postgres.college.class c on ta.cno = c.cno \\\n",
    "join postgres.college.teaches te on c.cno = te.cno \\\n",
    "join bigquery.college.instructor i on te.tid = i.tid \\\n",
    "order by s.sid \\\n",
    "limit 3\""
   ]
  },
  {
   "cell_type": "code",
   "execution_count": null,
   "id": "debbcf57-62ed-4bb7-81f1-adbe52c5dd56",
   "metadata": {},
   "outputs": [],
   "source": []
  }
 ],
 "metadata": {
  "environment": {
   "kernel": "conda-root-py",
   "name": "workbench-notebooks.m110",
   "type": "gcloud",
   "uri": "gcr.io/deeplearning-platform-release/workbench-notebooks:m110"
  },
  "kernelspec": {
   "display_name": "Python 3",
   "language": "python",
   "name": "conda-root-py"
  },
  "language_info": {
   "codemirror_mode": {
    "name": "ipython",
    "version": 3
   },
   "file_extension": ".py",
   "mimetype": "text/x-python",
   "name": "python",
   "nbconvert_exporter": "python",
   "pygments_lexer": "ipython3",
   "version": "3.10.12"
  }
 },
 "nbformat": 4,
 "nbformat_minor": 5
}
