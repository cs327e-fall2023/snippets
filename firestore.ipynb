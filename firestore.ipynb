{
 "cells": [
  {
   "cell_type": "markdown",
   "metadata": {},
   "source": [
    "#### 1. Download the college dataset:"
   ]
  },
  {
   "cell_type": "code",
   "execution_count": 1,
   "metadata": {},
   "outputs": [
    {
     "name": "stdout",
     "output_type": "stream",
     "text": [
      "env: BASE_DIR=/home/jupyter/snippets\n"
     ]
    }
   ],
   "source": [
    "%env BASE_DIR=/home/jupyter/snippets"
   ]
  },
  {
   "cell_type": "code",
   "execution_count": 2,
   "metadata": {},
   "outputs": [
    {
     "name": "stdout",
     "output_type": "stream",
     "text": [
      "Copying gs://cs327e-open-access/fs_college.zip...\n",
      "/ [1 files][  2.0 KiB/  2.0 KiB]                                                \n",
      "Operation completed over 1 objects/2.0 KiB.                                      \n"
     ]
    }
   ],
   "source": [
    "!gsutil cp gs://cs327e-open-access/fs_college.zip $BASE_DIR"
   ]
  },
  {
   "cell_type": "code",
   "execution_count": 3,
   "metadata": {},
   "outputs": [
    {
     "name": "stdout",
     "output_type": "stream",
     "text": [
      "Archive:  /home/jupyter/snippets/fs_college.zip\n",
      "  inflating: fs_college/class.csv    \n",
      "  inflating: fs_college/instructor.csv  \n",
      "  inflating: fs_college/student.csv  \n",
      "  inflating: fs_college/takes.csv    \n",
      "  inflating: fs_college/teaches.csv  \n"
     ]
    }
   ],
   "source": [
    "!unzip $BASE_DIR/fs_college.zip"
   ]
  },
  {
   "cell_type": "markdown",
   "metadata": {},
   "source": [
    "#### 2. Create and populate Firestore database"
   ]
  },
  {
   "cell_type": "code",
   "execution_count": 4,
   "metadata": {},
   "outputs": [
    {
     "data": {
      "text/plain": [
       "[update_time {\n",
       "   seconds: 1697229472\n",
       "   nanos: 956320000\n",
       " },\n",
       " update_time {\n",
       "   seconds: 1697229472\n",
       "   nanos: 956320000\n",
       " },\n",
       " update_time {\n",
       "   seconds: 1697229472\n",
       "   nanos: 956320000\n",
       " },\n",
       " update_time {\n",
       "   seconds: 1697229472\n",
       "   nanos: 956320000\n",
       " },\n",
       " update_time {\n",
       "   seconds: 1697229472\n",
       "   nanos: 956320000\n",
       " },\n",
       " update_time {\n",
       "   seconds: 1697229472\n",
       "   nanos: 956320000\n",
       " },\n",
       " update_time {\n",
       "   seconds: 1697229472\n",
       "   nanos: 956320000\n",
       " },\n",
       " update_time {\n",
       "   seconds: 1697229472\n",
       "   nanos: 956320000\n",
       " },\n",
       " update_time {\n",
       "   seconds: 1697229472\n",
       "   nanos: 956320000\n",
       " }]"
      ]
     },
     "execution_count": 4,
     "metadata": {},
     "output_type": "execute_result"
    }
   ],
   "source": [
    "import pandas as pd\n",
    "from google.cloud import firestore\n",
    "db = firestore.Client()\n",
    "batch = db.batch()\n",
    "\n",
    "df = pd.read_csv('fs_college/class.csv', sep=',', header=0, lineterminator='\\n')\n",
    "rows = df.values.tolist()\n",
    "\n",
    "for row in rows: \n",
    "    record = {}\n",
    "    record['cno'] = row[0]\n",
    "    record['cname'] = row[1]\n",
    "    record['credits'] = row[2]\n",
    "    \n",
    "    class_ref = db.collection('class').document(row[0])\n",
    "    batch.set(class_ref, record)\n",
    "    \n",
    "batch.commit()"
   ]
  },
  {
   "cell_type": "code",
   "execution_count": 5,
   "metadata": {},
   "outputs": [],
   "source": [
    "import pandas as pd\n",
    "from google.cloud import firestore\n",
    "db = firestore.Client()\n",
    "batch = db.batch()\n",
    "\n",
    "df = pd.read_csv('fs_college/student.csv', sep=',', header=0, lineterminator='\\n')\n",
    "student_rows = df.values.tolist()\n",
    "\n",
    "df = pd.read_csv('fs_college/takes.csv', sep=',', header=0, lineterminator='\\n')\n",
    "takes_rows = df.values.tolist()\n",
    "\n",
    "for student_row in student_rows:\n",
    "    student_record = {}\n",
    "    student_record['sid'] = student_row[0]\n",
    "    student_record['fname'] = student_row[1]\n",
    "    student_record['lname'] = student_row[2]\n",
    "    student_record['dob'] = student_row[3]\n",
    "    student_record['status'] = student_row[4]\n",
    "    \n",
    "    student_ref = db.collection('student').document(student_row[0])\n",
    "    \n",
    "    batch.set(student_ref, student_record)\n",
    "    \n",
    "    for takes_row in takes_rows:\n",
    "        if student_row[0] == takes_row[0]:\n",
    "            class_record = {}\n",
    "            class_record['cno'] = takes_row[1]\n",
    "            class_record['cname'] = takes_row[2]\n",
    "            class_record['credits'] = takes_row[3]\n",
    "            class_record['grade'] = takes_row[4]\n",
    "            \n",
    "            classes_ref = student_ref.collection('classes').document(takes_row[1])\n",
    "        \n",
    "            batch.set(classes_ref, class_record)\n",
    "    \n",
    "    batch.commit()"
   ]
  },
  {
   "cell_type": "code",
   "execution_count": 6,
   "metadata": {},
   "outputs": [],
   "source": [
    "batch = db.batch()\n",
    "\n",
    "df = pd.read_csv('fs_college/instructor.csv', sep=',', header=0, lineterminator='\\n')\n",
    "instructor_rows = df.values.tolist()\n",
    "\n",
    "df = pd.read_csv('fs_college/teaches.csv', sep=',', header=0, lineterminator='\\n')\n",
    "teaches_rows = df.values.tolist()\n",
    "\n",
    "for instructor_row in instructor_rows:\n",
    "    \n",
    "    instructor_record = {}\n",
    "    instructor_record['tid'] = instructor_row[0]\n",
    "    instructor_record['instructor_name'] = instructor_row[1]\n",
    "    instructor_record['dept'] = instructor_row[2]\n",
    "    \n",
    "    instructor_ref = db.collection('instructor').document(instructor_row[0])\n",
    "    \n",
    "    batch.set(instructor_ref, instructor_record)\n",
    "    \n",
    "    for teaches_row in teaches_rows:\n",
    "        \n",
    "        if instructor_row[0] == teaches_row[0]:\n",
    "            \n",
    "            class_record = {}\n",
    "            class_record['cno'] = teaches_row[1]\n",
    "            class_record['cname'] = teaches_row[2]\n",
    "            class_record['credits'] = teaches_row[3]\n",
    "            \n",
    "            classes_ref = instructor_ref.collection('classes').document(teaches_row[1])\n",
    "        \n",
    "            batch.set(classes_ref, class_record)\n",
    "    \n",
    "    batch.commit()"
   ]
  },
  {
   "cell_type": "markdown",
   "metadata": {},
   "source": [
    "#### 3. Run some queries"
   ]
  },
  {
   "cell_type": "code",
   "execution_count": 7,
   "metadata": {},
   "outputs": [
    {
     "name": "stdout",
     "output_type": "stream",
     "text": [
      "paulg => {'lname': 'Gore', 'status': 'CUR', 'fname': 'Paul', 'sid': 'paulg', 'dob': '2000-09-17'}\n"
     ]
    }
   ],
   "source": [
    "student_ref = db.collection('student').document('paulg')\n",
    "result = student_ref.get()\n",
    "\n",
    "if result.exists:\n",
    "    print(f'{result.id} => {result.to_dict()}')\n",
    "else:\n",
    "    print('No such student')"
   ]
  },
  {
   "cell_type": "code",
   "execution_count": 9,
   "metadata": {},
   "outputs": [
    {
     "name": "stdout",
     "output_type": "stream",
     "text": [
      "aprilz => {'status': 'CUR', 'sid': 'aprilz', 'dob': '2000-10-01', 'fname': 'April', 'lname': 'Lopez'}\n",
      "bzen26 => {'dob': '1998-04-22', 'fname': 'Biswa', 'lname': 'Zen', 'status': 'CUR', 'sid': 'bzen26'}\n",
      "jc => {'lname': 'Cowe', 'status': 'CUR', 'fname': 'James', 'dob': '2000-04-22', 'sid': 'jc'}\n",
      "jerryh => {'status': 'CUR', 'fname': 'Jerry', 'sid': 'jerryh', 'lname': 'Hargrove', 'dob': '1999-01-03'}\n",
      "kev18 => {'status': 'CUR', 'lname': 'Lin', 'sid': 'kev18', 'fname': 'Kevin', 'dob': '1999-10-05'}\n",
      "paulg => {'sid': 'paulg', 'fname': 'Paul', 'lname': 'Gore', 'dob': '2000-09-17', 'status': 'CUR'}\n",
      "sudeepa4 => {'sid': 'sudeepa4', 'lname': 'Roy', 'dob': '2001-10-01', 'fname': 'Sudeepa', 'status': 'CUR'}\n"
     ]
    }
   ],
   "source": [
    "from google.cloud.firestore_v1.base_query import FieldFilter\n",
    "student_ref = db.collection('student')\n",
    "query = student_ref.where(filter=FieldFilter('status', '==', 'CUR'))\n",
    "results = query.stream()\n",
    "\n",
    "for result in results:\n",
    "    print(f'{result.id} => {result.to_dict()}')"
   ]
  },
  {
   "cell_type": "code",
   "execution_count": 10,
   "metadata": {},
   "outputs": [
    {
     "name": "stdout",
     "output_type": "stream",
     "text": [
      "CS313E => {'credits': 3, 'cname': 'Elements of Software Engineering', 'cno': 'CS313E'}\n",
      "CS329E => {'cname': 'Elements of Web Programming', 'cno': 'CS329E', 'credits': 3}\n"
     ]
    }
   ],
   "source": [
    "query = db.collection('instructor').document('mitra').collection('classes')\n",
    "results = query.stream()\n",
    "\n",
    "for result in results:\n",
    "    print(f'{result.id} => {result.to_dict()}')"
   ]
  },
  {
   "cell_type": "markdown",
   "metadata": {},
   "source": [
    "### Prompt 1: Get all classes which are worth 3 credits. Return the attributes of those classes. "
   ]
  },
  {
   "cell_type": "code",
   "execution_count": 11,
   "metadata": {},
   "outputs": [
    {
     "name": "stdout",
     "output_type": "stream",
     "text": [
      "CS303E => {'cname': 'Elements of Computers and Programming', 'credits': 3, 'cno': 'CS303E'}\n",
      "CS313E => {'cno': 'CS313E', 'credits': 3, 'cname': 'Elements of Software Engineering'}\n",
      "CS326E => {'cno': 'CS326E', 'cname': 'Elements of Networking', 'credits': 3}\n",
      "CS327E => {'cno': 'CS327E', 'cname': 'Elements of Databases', 'credits': 3}\n",
      "CS329E => {'cname': 'Elements of Web Programming', 'credits': 3, 'cno': 'CS329E'}\n",
      "CS347 => {'cno': 'CS347', 'cname': 'Data Management', 'credits': 3}\n",
      "M328K => {'cname': 'Intro to Number Theory', 'cno': 'M328K', 'credits': 3}\n",
      "M358K => {'cno': 'M358K', 'credits': 3, 'cname': 'Applied Statistics'}\n",
      "M362K => {'cno': 'M362K', 'credits': 3, 'cname': 'Probability I'}\n"
     ]
    }
   ],
   "source": [
    "from google.cloud.firestore_v1.base_query import FieldFilter\n",
    "class_ref = db.collection('class')\n",
    "query = class_ref.where(filter=FieldFilter('credits', '==', 3))\n",
    "results = query.stream()\n",
    "\n",
    "for result in results:\n",
    "    print(f'{result.id} => {result.to_dict()}')"
   ]
  },
  {
   "cell_type": "markdown",
   "metadata": {},
   "source": [
    "### Prompt 2: What does the following query do? Write a short markdown description below the code"
   ]
  },
  {
   "cell_type": "code",
   "execution_count": 12,
   "metadata": {},
   "outputs": [
    {
     "name": "stdout",
     "output_type": "stream",
     "text": [
      "bulko => {'dept': 'Computer Science', 'tid': 'bulko', 'instructor_name': 'Bill Bulko'}\n",
      "CS303E => {'credits': 3, 'cno': 'CS303E', 'cname': 'Elements of Computers and Programming'}\n",
      "cannata => {'tid': 'cannata', 'dept': 'Computer Science', 'instructor_name': 'Phil Cannata'}\n",
      "CS326E => {'cno': 'CS326E', 'cname': 'Elements of Networking', 'credits': 3}\n",
      "downing => {'instructor_name': 'Glenn Downing', 'tid': 'downing', 'dept': 'Computer Science'}\n",
      "fares => {'tid': 'fares', 'instructor_name': 'Fares Fraij', 'dept': 'Computer Science'}\n",
      "koch => {'tid': 'koch', 'dept': 'Mathematics', 'instructor_name': 'Hans Koch'}\n",
      "M328K => {'cno': 'M328K', 'credits': 3, 'cname': 'Intro to Number Theory'}\n",
      "mitra => {'tid': 'mitra', 'instructor_name': 'Shyamal Mitra', 'dept': 'Computer Science'}\n",
      "CS313E => {'credits': 3, 'cno': 'CS313E', 'cname': 'Elements of Software Engineering'}\n",
      "CS329E => {'cname': 'Elements of Web Programming', 'cno': 'CS329E', 'credits': 3}\n",
      "mueller => {'dept': 'Mathematics', 'tid': 'mueller', 'instructor_name': 'Peter Mueller'}\n",
      "M362K => {'cname': 'Probability I', 'cno': 'M362K', 'credits': 3}\n",
      "neeman => {'dept': 'Mathematics', 'instructor_name': 'Joe Neeman', 'tid': 'neeman'}\n",
      "M362K => {'cno': 'M362K', 'credits': 3, 'cname': 'Probability I'}\n",
      "scohen => {'tid': 'scohen', 'dept': 'Computer Science', 'instructor_name': 'Shirley Cohen'}\n",
      "CS327E => {'cname': 'Elements of Databases', 'credits': 3, 'cno': 'CS327E'}\n",
      "tran => {'dept': 'Mathematics', 'instructor_name': 'Ngoc Tran', 'tid': 'tran'}\n",
      "M358K => {'cname': 'Applied Statistics', 'cno': 'M358K', 'credits': 3}\n"
     ]
    }
   ],
   "source": [
    "instructor_ref = db.collection('instructor')\n",
    "results = instructor_ref.stream()\n",
    "\n",
    "for result in results:\n",
    "    print(f'{result.id} => {result.to_dict()}')\n",
    "    sresults = instructor_ref.document(result.id).collection('classes').stream()\n",
    "    \n",
    "    for sresult in sresults:\n",
    "        print(f'{sresult.id} => {sresult.to_dict()}')"
   ]
  },
  {
   "cell_type": "code",
   "execution_count": null,
   "metadata": {},
   "outputs": [],
   "source": []
  }
 ],
 "metadata": {
  "environment": {
   "kernel": "conda-root-py",
   "name": "workbench-notebooks.m110",
   "type": "gcloud",
   "uri": "gcr.io/deeplearning-platform-release/workbench-notebooks:m110"
  },
  "kernelspec": {
   "display_name": "Python 3",
   "language": "python",
   "name": "conda-root-py"
  },
  "language_info": {
   "codemirror_mode": {
    "name": "ipython",
    "version": 3
   },
   "file_extension": ".py",
   "mimetype": "text/x-python",
   "name": "python",
   "nbconvert_exporter": "python",
   "pygments_lexer": "ipython3",
   "version": "3.10.12"
  }
 },
 "nbformat": 4,
 "nbformat_minor": 4
}
