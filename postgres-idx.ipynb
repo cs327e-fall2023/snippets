{
 "cells": [
  {
   "cell_type": "markdown",
   "id": "ee061573-fb8e-45b0-aac8-b6d201b717a1",
   "metadata": {},
   "source": [
    "### 1. Create an index to tune this query:\n",
    "`select * from shopify.apps a join shopify.reviews r on a.id = r.app_id where a.rating >= 5.0 and r.author = 'Funky Moose Records';`\n",
    "#### Test your index using `explain` and time the query using `\\timing` in psql"
   ]
  },
  {
   "cell_type": "code",
   "execution_count": 1,
   "id": "5c957050-a327-451a-9c06-10d0967cbe06",
   "metadata": {},
   "outputs": [
    {
     "name": "stdout",
     "output_type": "stream",
     "text": [
      "                                   QUERY PLAN                                   \n",
      "--------------------------------------------------------------------------------\n",
      " Nested Loop  (cost=0.28..2970.83 rows=1 width=374)\n",
      "   ->  Seq Scan on reviews r  (cost=0.00..2962.51 rows=1 width=60)\n",
      "         Filter: ((author)::text = 'Funky Moose Records'::text)\n",
      "   ->  Index Scan using apps_pkey on apps a  (cost=0.28..8.30 rows=1 width=314)\n",
      "         Index Cond: (id = r.app_id)\n",
      "         Filter: (rating >= '5'::double precision)\n",
      "(6 rows)\n",
      "\n"
     ]
    }
   ],
   "source": [
    "!psql -c \"explain select * from shopify.apps a join shopify.reviews r on a.id = r.app_id where a.rating >= 5.0 and r.author = 'Funky Moose Records'\"\n"
   ]
  },
  {
   "cell_type": "code",
   "execution_count": 2,
   "id": "18fdbd2d-a176-4630-888e-406ead59bae8",
   "metadata": {},
   "outputs": [
    {
     "name": "stdout",
     "output_type": "stream",
     "text": [
      "CREATE INDEX\n"
     ]
    }
   ],
   "source": [
    "!psql -c \"create index reviews_author_idx on shopify.reviews(author)\""
   ]
  },
  {
   "cell_type": "code",
   "execution_count": 3,
   "id": "c53f9f5a-7055-4264-9081-4fa1bef0106a",
   "metadata": {},
   "outputs": [
    {
     "name": "stdout",
     "output_type": "stream",
     "text": [
      "                                        QUERY PLAN                                         \n",
      "-------------------------------------------------------------------------------------------\n",
      " Nested Loop  (cost=0.70..16.75 rows=1 width=374)\n",
      "   ->  Index Scan using reviews_author_idx on reviews r  (cost=0.42..8.44 rows=1 width=60)\n",
      "         Index Cond: ((author)::text = 'Funky Moose Records'::text)\n",
      "   ->  Index Scan using apps_pkey on apps a  (cost=0.28..8.30 rows=1 width=314)\n",
      "         Index Cond: (id = r.app_id)\n",
      "         Filter: (rating >= '5'::double precision)\n",
      "(6 rows)\n",
      "\n"
     ]
    }
   ],
   "source": [
    "!psql -c \"explain select * from shopify.apps a join shopify.reviews r on a.id = r.app_id where a.rating >= 5.0 and r.author = 'Funky Moose Records'\""
   ]
  },
  {
   "cell_type": "markdown",
   "id": "69dbc5ea-1ff9-408b-9245-c0549e673ac0",
   "metadata": {},
   "source": [
    "#### Prompt 1: Choose a query you wrote for Project 3. Try to find a relevant index to tune your query. Provide the SQL for your query, the create index statement, and the explain plan."
   ]
  },
  {
   "cell_type": "code",
   "execution_count": null,
   "id": "721a0566-cfae-47c4-9a00-09e48af6d30c",
   "metadata": {},
   "outputs": [],
   "source": []
  },
  {
   "cell_type": "code",
   "execution_count": null,
   "id": "e4d1ec55-df74-4553-9404-40c79bec8838",
   "metadata": {},
   "outputs": [],
   "source": []
  },
  {
   "cell_type": "code",
   "execution_count": null,
   "id": "b2cc559f-2cc5-4722-80ff-5d02f0414f57",
   "metadata": {},
   "outputs": [],
   "source": []
  }
 ],
 "metadata": {
  "environment": {
   "kernel": "python3",
   "name": "common-cpu.m87",
   "type": "gcloud",
   "uri": "gcr.io/deeplearning-platform-release/base-cpu:m87"
  },
  "kernelspec": {
   "display_name": "Python 3",
   "language": "python",
   "name": "python3"
  },
  "language_info": {
   "codemirror_mode": {
    "name": "ipython",
    "version": 3
   },
   "file_extension": ".py",
   "mimetype": "text/x-python",
   "name": "python",
   "nbconvert_exporter": "python",
   "pygments_lexer": "ipython3",
   "version": "3.7.12"
  }
 },
 "nbformat": 4,
 "nbformat_minor": 5
}
