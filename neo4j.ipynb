{
 "cells": [
  {
   "cell_type": "code",
   "execution_count": 7,
   "id": "c1a58ed7-fac1-4896-bf6d-f0ffd5eb72f0",
   "metadata": {},
   "outputs": [
    {
     "name": "stdout",
     "output_type": "stream",
     "text": [
      "env: CYPHER=/usr/bin/cypher-shell\n",
      "env: HOST=connection_uri\n",
      "env: USER=neo4j\n",
      "env: PW=your_password\n"
     ]
    }
   ],
   "source": [
    "%env CYPHER=/usr/bin/cypher-shell\n",
    "%env HOST=connection_uri\n",
    "%env USER=neo4j\n",
    "%env PW=your_password"
   ]
  },
  {
   "cell_type": "code",
   "execution_count": 2,
   "id": "d4a91943-1d5d-40b1-ac5e-f624ae37ca89",
   "metadata": {},
   "outputs": [],
   "source": [
    "CONNECT=\"$CYPHER -a $HOST -u $USER -p $PW\""
   ]
  },
  {
   "cell_type": "code",
   "execution_count": 3,
   "id": "96887bda-574a-47bb-b2aa-82a873bc4ecc",
   "metadata": {},
   "outputs": [
    {
     "name": "stdout",
     "output_type": "stream",
     "text": [
      "+------------------------------------------------------------------+\n",
      "| user    | roles      | passwordChangeRequired | suspended | home |\n",
      "+------------------------------------------------------------------+\n",
      "| \"neo4j\" | [\"PUBLIC\"] | FALSE                  | FALSE     | NULL |\n",
      "+------------------------------------------------------------------+\n",
      "\n",
      "1 row\n",
      "ready to start consuming query after 237 ms, results consumed after another 668 ms\n"
     ]
    }
   ],
   "source": [
    "!{CONNECT} \"show users\""
   ]
  },
  {
   "cell_type": "code",
   "execution_count": 4,
   "id": "6cfe9b35-a837-422b-839b-9dc58f0e99b1",
   "metadata": {},
   "outputs": [
    {
     "name": "stdout",
     "output_type": "stream",
     "text": [
      "+--------------------------------------------------------------------------------------+\n",
      "| n                                                                                    |\n",
      "+--------------------------------------------------------------------------------------+\n",
      "| (:Movie {tagline: \"Welcome to the Real World\", title: \"The Matrix\", released: 1999}) |\n",
      "| (:Person {name: \"Keanu Reeves\", born: 1964})                                         |\n",
      "| (:Person {name: \"Carrie-Anne Moss\", born: 1967})                                     |\n",
      "| (:Person {name: \"Laurence Fishburne\", born: 1961})                                   |\n",
      "| (:Person {name: \"Hugo Weaving\", born: 1960})                                         |\n",
      "+--------------------------------------------------------------------------------------+\n",
      "\n",
      "5 rows\n",
      "ready to start consuming query after 75 ms, results consumed after another 12 ms\n"
     ]
    }
   ],
   "source": [
    "!{CONNECT} \"MATCH (n) RETURN n LIMIT 5\""
   ]
  },
  {
   "cell_type": "code",
   "execution_count": 6,
   "id": "9bd40b5c-37d7-4396-9b1f-e326eaf1c3ea",
   "metadata": {},
   "outputs": [
    {
     "name": "stdout",
     "output_type": "stream",
     "text": [
      "+-------------------------------------------------+\n",
      "| p                                               |\n",
      "+-------------------------------------------------+\n",
      "| (:Person {name: \"Val Kilmer\", born: 1959})      |\n",
      "| (:Person {name: \"Meg Ryan\", born: 1961})        |\n",
      "| (:Person {name: \"Tom Skerritt\", born: 1933})    |\n",
      "| (:Person {name: \"Kelly McGillis\", born: 1957})  |\n",
      "| (:Person {name: \"Tom Cruise\", born: 1962})      |\n",
      "| (:Person {name: \"Anthony Edwards\", born: 1962}) |\n",
      "+-------------------------------------------------+\n",
      "\n",
      "6 rows\n",
      "ready to start consuming query after 80 ms, results consumed after another 3 ms\n"
     ]
    }
   ],
   "source": [
    "!{CONNECT} \"MATCH (p:Person)-[:ACTED_IN]->(m:Movie) \\\n",
    "WHERE m.title = 'Top Gun' \\\n",
    "RETURN p\""
   ]
  },
  {
   "cell_type": "markdown",
   "id": "c7d1924e-c819-4d9d-ac4e-cb5601154d6b",
   "metadata": {},
   "source": [
    "##### Prompt 1: Which persons reviewed a movie? Return the persons and movies they reviewed. Order by person's name. \n",
    "\n",
    "##### Hint: the relationship type is called `REVIEWED`"
   ]
  },
  {
   "cell_type": "code",
   "execution_count": null,
   "id": "1b48c062-a9c7-43fe-b6ae-54d822fea798",
   "metadata": {},
   "outputs": [],
   "source": []
  },
  {
   "cell_type": "markdown",
   "id": "cb437539-ed03-459c-9bac-0cfbdeeda515",
   "metadata": {},
   "source": [
    "##### Prompt 2: Which persons reviewed a movie and also follow the same movie's actors? Return the person's name and movie title.\n",
    "\n",
    "##### Hint: the relationship type is called `FOLLOWS`"
   ]
  },
  {
   "cell_type": "code",
   "execution_count": null,
   "id": "df6d81ca-899e-49aa-80da-04164556f51f",
   "metadata": {},
   "outputs": [],
   "source": []
  }
 ],
 "metadata": {
  "environment": {
   "kernel": "conda-root-py",
   "name": "workbench-notebooks.m110",
   "type": "gcloud",
   "uri": "gcr.io/deeplearning-platform-release/workbench-notebooks:m110"
  },
  "kernelspec": {
   "display_name": "Python 3",
   "language": "python",
   "name": "conda-root-py"
  },
  "language_info": {
   "codemirror_mode": {
    "name": "ipython",
    "version": 3
   },
   "file_extension": ".py",
   "mimetype": "text/x-python",
   "name": "python",
   "nbconvert_exporter": "python",
   "pygments_lexer": "ipython3",
   "version": "3.10.12"
  }
 },
 "nbformat": 4,
 "nbformat_minor": 5
}
