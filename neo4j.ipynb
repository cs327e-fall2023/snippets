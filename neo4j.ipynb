{
 "cells": [
  {
   "cell_type": "code",
   "execution_count": 1,
   "id": "c1a58ed7-fac1-4896-bf6d-f0ffd5eb72f0",
   "metadata": {},
   "outputs": [
    {
     "name": "stdout",
     "output_type": "stream",
     "text": [
      "env: CYPHER=/usr/bin/cypher-shell\n",
      "env: HOST=neo4j+s://0a704781.databases.neo4j.io\n",
      "env: USER=neo4j\n",
      "env: PW=p4vnzZs-dzEeboBLZLSfCX5C9Gm1pdzRKVFJr3qUiXE\n"
     ]
    }
   ],
   "source": [
    "%env CYPHER=/usr/bin/cypher-shell\n",
    "%env HOST=your_host\n",
    "%env USER=neo4j\n",
    "%env PW=your_pw"
   ]
  },
  {
   "cell_type": "code",
   "execution_count": 2,
   "id": "d4a91943-1d5d-40b1-ac5e-f624ae37ca89",
   "metadata": {},
   "outputs": [],
   "source": [
    "CONNECT=\"$CYPHER -a $HOST -u $USER -p $PW\""
   ]
  },
  {
   "cell_type": "code",
   "execution_count": 7,
   "id": "1cb78ed0-2c80-401b-a362-ff8112bf591f",
   "metadata": {},
   "outputs": [],
   "source": [
    "from IPython.core.magic import register_cell_magic\n",
    "import shlex\n",
    "\n",
    "@register_cell_magic('neo')\n",
    "def neo(line, cell):\n",
    "    !{CONNECT} {shlex.quote(cell)}"
   ]
  },
  {
   "cell_type": "code",
   "execution_count": 8,
   "id": "96887bda-574a-47bb-b2aa-82a873bc4ecc",
   "metadata": {},
   "outputs": [
    {
     "name": "stdout",
     "output_type": "stream",
     "text": [
      "+------------------------------------------------------------------+\n",
      "| user    | roles      | passwordChangeRequired | suspended | home |\n",
      "+------------------------------------------------------------------+\n",
      "| \"neo4j\" | [\"PUBLIC\"] | FALSE                  | FALSE     | NULL |\n",
      "+------------------------------------------------------------------+\n",
      "\n",
      "1 row\n",
      "ready to start consuming query after 8 ms, results consumed after another 307 ms\n"
     ]
    }
   ],
   "source": [
    "%%neo\n",
    "show users"
   ]
  },
  {
   "cell_type": "code",
   "execution_count": 9,
   "id": "6cfe9b35-a837-422b-839b-9dc58f0e99b1",
   "metadata": {},
   "outputs": [
    {
     "name": "stdout",
     "output_type": "stream",
     "text": [
      "+--------------------------------------------------------------------------------------+\n",
      "| n                                                                                    |\n",
      "+--------------------------------------------------------------------------------------+\n",
      "| (:Movie {tagline: \"Welcome to the Real World\", title: \"The Matrix\", released: 1999}) |\n",
      "| (:Person {name: \"Keanu Reeves\", born: 1964})                                         |\n",
      "| (:Person {name: \"Carrie-Anne Moss\", born: 1967})                                     |\n",
      "| (:Person {name: \"Laurence Fishburne\", born: 1961})                                   |\n",
      "| (:Person {name: \"Hugo Weaving\", born: 1960})                                         |\n",
      "+--------------------------------------------------------------------------------------+\n",
      "\n",
      "5 rows\n",
      "ready to start consuming query after 40 ms, results consumed after another 3 ms\n"
     ]
    }
   ],
   "source": [
    "%%neo\n",
    "MATCH (n) RETURN n LIMIT 5"
   ]
  },
  {
   "cell_type": "code",
   "execution_count": 10,
   "id": "9bd40b5c-37d7-4396-9b1f-e326eaf1c3ea",
   "metadata": {},
   "outputs": [
    {
     "name": "stdout",
     "output_type": "stream",
     "text": [
      "+-------------------------------------------------+\n",
      "| p                                               |\n",
      "+-------------------------------------------------+\n",
      "| (:Person {name: \"Val Kilmer\", born: 1959})      |\n",
      "| (:Person {name: \"Meg Ryan\", born: 1961})        |\n",
      "| (:Person {name: \"Tom Skerritt\", born: 1933})    |\n",
      "| (:Person {name: \"Kelly McGillis\", born: 1957})  |\n",
      "| (:Person {name: \"Tom Cruise\", born: 1962})      |\n",
      "| (:Person {name: \"Anthony Edwards\", born: 1962}) |\n",
      "+-------------------------------------------------+\n",
      "\n",
      "6 rows\n",
      "ready to start consuming query after 80 ms, results consumed after another 3 ms\n"
     ]
    }
   ],
   "source": [
    "%%neo \n",
    "MATCH (p:Person)-[:ACTED_IN]->(m:Movie) \n",
    "WHERE m.title = 'Top Gun' \n",
    "RETURN p"
   ]
  },
  {
   "cell_type": "markdown",
   "id": "c7d1924e-c819-4d9d-ac4e-cb5601154d6b",
   "metadata": {},
   "source": [
    "##### Prompt 1: Which persons reviewed a movie? Return the persons' names and the movies which they reviewed. Order by person's name. \n",
    "\n",
    "##### Hint: the relationship type is called `REVIEWED`"
   ]
  },
  {
   "cell_type": "code",
   "execution_count": 12,
   "id": "1b48c062-a9c7-43fe-b6ae-54d822fea798",
   "metadata": {},
   "outputs": [
    {
     "name": "stdout",
     "output_type": "stream",
     "text": [
      "+------------------------------------------+\n",
      "| p.name             | m.title             |\n",
      "+------------------------------------------+\n",
      "| \"Angela Scope\"     | \"The Replacements\"  |\n",
      "| \"James Thompson\"   | \"The Replacements\"  |\n",
      "| \"James Thompson\"   | \"The Da Vinci Code\" |\n",
      "| \"Jessica Thompson\" | \"Cloud Atlas\"       |\n",
      "| \"Jessica Thompson\" | \"The Replacements\"  |\n",
      "| \"Jessica Thompson\" | \"Unforgiven\"        |\n",
      "| \"Jessica Thompson\" | \"The Birdcage\"      |\n",
      "| \"Jessica Thompson\" | \"The Da Vinci Code\" |\n",
      "| \"Jessica Thompson\" | \"Jerry Maguire\"     |\n",
      "+------------------------------------------+\n",
      "\n",
      "9 rows\n",
      "ready to start consuming query after 85 ms, results consumed after another 2 ms\n"
     ]
    }
   ],
   "source": [
    "%%neo\n",
    "MATCH (p:Person)-[r:REVIEWED]->(m:Movie) \n",
    "RETURN p.name, m.title\n",
    "ORDER BY p.name"
   ]
  },
  {
   "cell_type": "markdown",
   "id": "cb437539-ed03-459c-9bac-0cfbdeeda515",
   "metadata": {},
   "source": [
    "##### Prompt 2: Which persons reviewed a movie and also follow the same movie's actors? Return the person's name and movie title.\n",
    "\n",
    "##### Hint: the relationship type is called `FOLLOWS`"
   ]
  },
  {
   "cell_type": "code",
   "execution_count": 13,
   "id": "df6d81ca-899e-49aa-80da-04164556f51f",
   "metadata": {},
   "outputs": [
    {
     "name": "stdout",
     "output_type": "stream",
     "text": [
      "+---------------------------+\n",
      "| r.name | a.name | m.title |\n",
      "+---------------------------+\n",
      "+---------------------------+\n",
      "\n",
      "0 rows\n",
      "ready to start consuming query after 128 ms, results consumed after another 2 ms\n"
     ]
    }
   ],
   "source": [
    "%%neo\n",
    "MATCH (r:Person)-[:REVIEWED]->(m:Movie), \n",
    "(a:Person)-[:ACTED_IN]->(m:Movie), \n",
    "(r:Person)-[:FOLLOWS]->(a:Person)\n",
    "RETURN r.name, a.name, m.title;"
   ]
  },
  {
   "cell_type": "markdown",
   "id": "d76cfa97-5885-454a-8b4a-e83137e14d0a",
   "metadata": {},
   "source": [
    "##### Prompt 3: Create a `FOLLOWS` relationship from Jessica Thompson to Bonnie Hunt"
   ]
  },
  {
   "cell_type": "code",
   "execution_count": 15,
   "id": "eb435134-a5b0-4233-bba8-4043487c2766",
   "metadata": {},
   "outputs": [
    {
     "name": "stdout",
     "output_type": "stream",
     "text": [
      "+-------------------------------------------------------------------------------------------------+\n",
      "| r                                    | f          | a                                           |\n",
      "+-------------------------------------------------------------------------------------------------+\n",
      "| (:Person {name: \"Jessica Thompson\"}) | [:FOLLOWS] | (:Person {name: \"Bonnie Hunt\", born: 1961}) |\n",
      "+-------------------------------------------------------------------------------------------------+\n",
      "\n",
      "1 row\n",
      "ready to start consuming query after 144 ms, results consumed after another 61 ms\n",
      "Created 1 relationships\n"
     ]
    }
   ],
   "source": [
    "%%neo\n",
    "MATCH (r:Person), (a:Person)\n",
    "WHERE r.name = \"Jessica Thompson\" AND a.name = \"Bonnie Hunt\"\n",
    "CREATE (r)-[f:FOLLOWS]->(a)\n",
    "RETURN r, f, a;"
   ]
  },
  {
   "cell_type": "markdown",
   "id": "367139d4-40c1-4bf6-b8e2-8f6ce04caffd",
   "metadata": {},
   "source": [
    "##### Prompt 4: Re-test the previous query you wrote for Prompt 2"
   ]
  },
  {
   "cell_type": "code",
   "execution_count": 16,
   "id": "1b455f03-10eb-42a0-a727-319fb0f2ff28",
   "metadata": {},
   "outputs": [
    {
     "name": "stdout",
     "output_type": "stream",
     "text": [
      "+------------------------------------------------------+\n",
      "| r.name             | a.name        | m.title         |\n",
      "+------------------------------------------------------+\n",
      "| \"Jessica Thompson\" | \"Bonnie Hunt\" | \"Jerry Maguire\" |\n",
      "+------------------------------------------------------+\n",
      "\n",
      "1 row\n",
      "ready to start consuming query after 7 ms, results consumed after another 2 ms\n"
     ]
    }
   ],
   "source": [
    "%%neo\n",
    "MATCH (r:Person)-[:REVIEWED]->(m:Movie), \n",
    "(a:Person)-[:ACTED_IN]->(m:Movie), \n",
    "(r:Person)-[:FOLLOWS]->(a:Person)\n",
    "RETURN r.name, a.name, m.title;"
   ]
  },
  {
   "cell_type": "code",
   "execution_count": null,
   "id": "47c6624a-564f-4804-9f2b-6fdf39ba3858",
   "metadata": {},
   "outputs": [],
   "source": []
  }
 ],
 "metadata": {
  "environment": {
   "kernel": "conda-root-py",
   "name": "workbench-notebooks.m110",
   "type": "gcloud",
   "uri": "gcr.io/deeplearning-platform-release/workbench-notebooks:m110"
  },
  "kernelspec": {
   "display_name": "Python 3",
   "language": "python",
   "name": "conda-root-py"
  },
  "language_info": {
   "codemirror_mode": {
    "name": "ipython",
    "version": 3
   },
   "file_extension": ".py",
   "mimetype": "text/x-python",
   "name": "python",
   "nbconvert_exporter": "python",
   "pygments_lexer": "ipython3",
   "version": "3.10.12"
  }
 },
 "nbformat": 4,
 "nbformat_minor": 5
}
