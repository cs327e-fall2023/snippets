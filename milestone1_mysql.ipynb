{
 "cells": [
  {
   "cell_type": "markdown",
   "id": "a04117d5-e5e4-4f07-9907-6cfd76061f31",
   "metadata": {},
   "source": [
    "#### Milestone 1 MySQL Code Samples"
   ]
  },
  {
   "cell_type": "code",
   "execution_count": 4,
   "id": "8fe799de-6741-465f-88ee-9cf1daab472b",
   "metadata": {},
   "outputs": [],
   "source": [
    "HOST = \"10.25.208.3\"\n",
    "USER = \"root\"\n",
    "PW=\"cs327e!\"\n",
    "DB=\"final_project\""
   ]
  },
  {
   "cell_type": "code",
   "execution_count": 5,
   "id": "4449cef5-2ca7-4a30-bc7f-9e3da90ae72b",
   "metadata": {},
   "outputs": [],
   "source": [
    "import mysql.connector\n",
    "\n",
    "def connect():\n",
    "    connection = mysql.connector.connect(\n",
    "    host=HOST,\n",
    "    user=USER,\n",
    "    password=PW,\n",
    "    database=DB,\n",
    "    autocommit=False)\n",
    "    \n",
    "    return connection"
   ]
  },
  {
   "cell_type": "markdown",
   "id": "9f3488d5-ff27-4f40-af06-a8a69a1f60fb",
   "metadata": {},
   "source": [
    "##### 1. Test connection"
   ]
  },
  {
   "cell_type": "code",
   "execution_count": 6,
   "id": "59515791-718d-4088-b0a9-0e281211fdb5",
   "metadata": {},
   "outputs": [
    {
     "name": "stdout",
     "output_type": "stream",
     "text": [
      "<mysql.connector.connection_cext.CMySQLConnection object at 0x7f77ef4ded40>\n"
     ]
    }
   ],
   "source": [
    "import mysql.connector\n",
    "\n",
    "connection = connect()\n",
    "\n",
    "print(connection)"
   ]
  },
  {
   "cell_type": "markdown",
   "id": "800e70de-b4d5-4306-9161-1a849da60c53",
   "metadata": {},
   "source": [
    "##### 2. Create the table (and drop it if it already exists)"
   ]
  },
  {
   "cell_type": "code",
   "execution_count": 10,
   "id": "e0ed03b8-ce94-4071-a89d-538beccbca37",
   "metadata": {},
   "outputs": [
    {
     "name": "stdout",
     "output_type": "stream",
     "text": [
      "<mysql.connector.connection_cext.CMySQLConnection object at 0x7f77ef4ac910>\n",
      "DROP TABLE IF EXISTS person\n",
      "CREATE TABLE person(\n",
      "    id MEDIUMINT NOT NULL AUTO_INCREMENT,\n",
      "    first_name VARCHAR(20) NOT NULL,\n",
      "    last_name VARCHAR(23) NOT NULL,\n",
      "    company VARCHAR(40) NOT NULL, \n",
      "    address VARCHAR(41) NOT NULL,\n",
      "    city VARCHAR(29) NOT NULL,\n",
      "    county VARCHAR(30) NOT NULL, \n",
      "    state CHAR(2)NOT NULL, \n",
      "    zip CHAR(5) NOT NULL,\n",
      "    phone_1 CHAR(12) NOT NULL,\n",
      "    phone_2 CHAR(12)NOT NULL,\n",
      "    email VARCHAR(44) NOT NULL,\n",
      "    web VARCHAR(52) NOT NULL, \n",
      "    PRIMARY KEY  (id)\n",
      ") \n",
      "Dropped person table\n",
      "Created person table\n"
     ]
    }
   ],
   "source": [
    "import mysql.connector\n",
    "\n",
    "connection = connect()\n",
    "print(connection)\n",
    "\n",
    "drop = 'DROP TABLE IF EXISTS person'\n",
    "\n",
    "create = '''CREATE TABLE person(\n",
    "    id MEDIUMINT NOT NULL AUTO_INCREMENT,\n",
    "    first_name VARCHAR(20) NOT NULL,\n",
    "    last_name VARCHAR(23) NOT NULL,\n",
    "    company VARCHAR(40) NOT NULL, \n",
    "    address VARCHAR(41) NOT NULL,\n",
    "    city VARCHAR(29) NOT NULL,\n",
    "    county VARCHAR(30) NOT NULL, \n",
    "    state CHAR(2)NOT NULL, \n",
    "    zip CHAR(5) NOT NULL,\n",
    "    phone_1 CHAR(12) NOT NULL,\n",
    "    phone_2 CHAR(12)NOT NULL,\n",
    "    email VARCHAR(44) NOT NULL,\n",
    "    web VARCHAR(52) NOT NULL, \n",
    "    PRIMARY KEY  (id)\n",
    ") '''\n",
    "\n",
    "print(drop)\n",
    "print(create)\n",
    "\n",
    "try:\n",
    "    cursor = connection.cursor()\n",
    "    cursor.execute(drop)\n",
    "    print('Dropped person table')\n",
    "    \n",
    "    cursor = connection.cursor()\n",
    "    cursor.execute(create)\n",
    "    print('Created person table')\n",
    "except Exception as e:\n",
    "    print(\"Error occurred while creating person table:\", e)"
   ]
  },
  {
   "cell_type": "markdown",
   "id": "89ef0b12-21ce-4ffc-80b2-88fddee9ad97",
   "metadata": {},
   "source": [
    "##### 3. insert records into table"
   ]
  },
  {
   "cell_type": "code",
   "execution_count": 12,
   "id": "c7f403eb-47f9-4e91-b768-caba7d14d424",
   "metadata": {},
   "outputs": [
    {
     "name": "stdout",
     "output_type": "stream",
     "text": [
      "<mysql.connector.connection_cext.CMySQLConnection object at 0x7f77ef51c4c0>\n",
      "Wrote 3 records into person table\n"
     ]
    }
   ],
   "source": [
    "import mysql.connector\n",
    "\n",
    "connection = connect()\n",
    "print(connection)\n",
    "\n",
    "sql = \"INSERT INTO person (first_name, last_name, company, address, city, county, state, zip, phone_1, phone_2, email, web)\\\n",
    " \t  VALUES (%s, %s, %s, %s, %s, %s, %s, %s, %s, %s, %s, %s)\"\n",
    "rec1 = (\"James\",\"Butt\",\"Benton, John B Jr\",\"6649 N Blue Gum St\",\\\n",
    "\t   \"New Orleans\",\"Orleans\",\"LA\",\"70116\",\"504-621-8927\",\"504-845-1427\",\"jbutt@gmail.com\",\"http://www.bentonjohnbjr.com\")\n",
    "rec2 = (\"Josephine\",\"Darakjy\",\"Chanay, Jeffrey A Esq\",\\\n",
    "\t   \"4 B Blue Ridge Blvd\",\"Brighton\",\"Livingston\",\"MI\",\"48116\",\"810-292-9388\",\"810-374-9840\",\"josephine_darakjy@darakjy.org\",\"http://www.chanayjeffreyaesq.com\")\n",
    "rec3 = (\"Art\",\"Venere\",\"Chemel, James L Cpa\",\"8 W Cerritos Ave\\\n",
    "\t   #54\",\"Bridgeport\",\"Gloucester\",\"NJ\",\"08014\",\"856-636-8749\",\"856-264-4130\",\"art@venere.org\",\"http://www.chemeljameslcpa.com\")\n",
    "records = [rec1, rec2, rec3]\n",
    "\n",
    "try:\n",
    "    cursor = connection.cursor()\n",
    "    cursor.executemany(sql, records)\n",
    "    connection.commit()\n",
    "    print('Wrote 3 records into person table')\n",
    "    cursor.close()\n",
    "except Exception as e:\n",
    "    print(\"Error occurred while writing records:\", e)"
   ]
  },
  {
   "cell_type": "code",
   "execution_count": null,
   "id": "d22c114c-a215-4ceb-972c-5ef6cf5f7331",
   "metadata": {},
   "outputs": [],
   "source": []
  }
 ],
 "metadata": {
  "environment": {
   "kernel": "conda-root-py",
   "name": "workbench-notebooks.m110",
   "type": "gcloud",
   "uri": "gcr.io/deeplearning-platform-release/workbench-notebooks:m110"
  },
  "kernelspec": {
   "display_name": "Python 3",
   "language": "python",
   "name": "conda-root-py"
  },
  "language_info": {
   "codemirror_mode": {
    "name": "ipython",
    "version": 3
   },
   "file_extension": ".py",
   "mimetype": "text/x-python",
   "name": "python",
   "nbconvert_exporter": "python",
   "pygments_lexer": "ipython3",
   "version": "3.10.12"
  }
 },
 "nbformat": 4,
 "nbformat_minor": 5
}
