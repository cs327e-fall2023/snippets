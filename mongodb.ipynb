{
 "cells": [
  {
   "cell_type": "markdown",
   "id": "1c040e79-0a59-48bb-8315-c5dfc2b29444",
   "metadata": {},
   "source": [
    "#### MongoDB Code Lab"
   ]
  },
  {
   "cell_type": "code",
   "execution_count": null,
   "id": "d4cb8d16-3e0d-4d35-86f2-03b1edaeb99d",
   "metadata": {},
   "outputs": [],
   "source": [
    "%env HOST=mongodb+srv://freesharedcluster.g22qkgv.mongodb.net/sample_restaurants\n",
    "%env USER=your_user\n",
    "%env PW=your_password"
   ]
  },
  {
   "cell_type": "code",
   "execution_count": null,
   "id": "aa1dd299-0c13-4508-b13c-e11f6f32f611",
   "metadata": {},
   "outputs": [],
   "source": [
    "CONNECT=\"/usr/bin/mongosh $HOST -u $USER -p $PW --quiet\""
   ]
  },
  {
   "cell_type": "code",
   "execution_count": null,
   "id": "d4f7cd3f-316c-4d8e-802e-705f3b3cf1c3",
   "metadata": {},
   "outputs": [],
   "source": [
    "!{CONNECT}"
   ]
  },
  {
   "cell_type": "code",
   "execution_count": null,
   "id": "34073621-e4f0-4bba-9f7e-ad801e718d74",
   "metadata": {},
   "outputs": [],
   "source": [
    "!{CONNECT} --eval \"show collections\""
   ]
  },
  {
   "cell_type": "code",
   "execution_count": null,
   "id": "3933d589-7c96-471e-aed4-fe291be0c30f",
   "metadata": {},
   "outputs": [],
   "source": [
    "!{CONNECT} --eval \"db.restaurants.findOne()\""
   ]
  },
  {
   "cell_type": "code",
   "execution_count": null,
   "id": "65ff3e2b-fd53-45f2-96d9-303602626b08",
   "metadata": {},
   "outputs": [],
   "source": [
    "!{CONNECT} -f /home/jupyter/mongo_queries.js "
   ]
  },
  {
   "cell_type": "markdown",
   "id": "74e8ac22-3e10-419e-9206-c2fdd6999145",
   "metadata": {},
   "source": [
    "#### Prompt 1: Find the restaurants whose borough = Manhattan, whose cuisine = Pizza, and whose name is NOT Domino'S Pizza. Return their borough, cuisine, and name. Sort the resulting documents by name. Limit the number of results to 5.  \n"
   ]
  },
  {
   "cell_type": "code",
   "execution_count": null,
   "id": "6d68a75e-7850-4f56-89c9-854222979dbf",
   "metadata": {},
   "outputs": [],
   "source": []
  },
  {
   "cell_type": "markdown",
   "id": "0c1b0bb1-799f-4f42-abd1-c0c33b0a3826",
   "metadata": {},
   "source": [
    "#### Prompt 2: Find the number of restaurants whose borough = Manhattan, whose cuisine = Pizza, and whose name is NOT Domino'S Pizza.  \n"
   ]
  },
  {
   "cell_type": "code",
   "execution_count": null,
   "id": "80ce5620-607d-4495-b805-86e79c973687",
   "metadata": {},
   "outputs": [],
   "source": []
  }
 ],
 "metadata": {
  "environment": {
   "kernel": "conda-root-py",
   "name": "workbench-notebooks.m110",
   "type": "gcloud",
   "uri": "gcr.io/deeplearning-platform-release/workbench-notebooks:m110"
  },
  "kernelspec": {
   "display_name": "Python 3",
   "language": "python",
   "name": "conda-root-py"
  },
  "language_info": {
   "codemirror_mode": {
    "name": "ipython",
    "version": 3
   },
   "file_extension": ".py",
   "mimetype": "text/x-python",
   "name": "python",
   "nbconvert_exporter": "python",
   "pygments_lexer": "ipython3",
   "version": "3.10.12"
  }
 },
 "nbformat": 4,
 "nbformat_minor": 5
}
