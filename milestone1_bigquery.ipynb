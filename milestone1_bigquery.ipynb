{
 "cells": [
  {
   "cell_type": "markdown",
   "id": "a04117d5-e5e4-4f07-9907-6cfd76061f31",
   "metadata": {},
   "source": [
    "#### Milestone 1 BigQuery Code Samples"
   ]
  },
  {
   "cell_type": "code",
   "execution_count": null,
   "id": "8fe799de-6741-465f-88ee-9cf1daab472b",
   "metadata": {},
   "outputs": [],
   "source": [
    "PROJECT = \"cs327e-fa2023\"\n",
    "DATASET = \"final_project\"\n",
    "REGION = \"us-central1\""
   ]
  },
  {
   "cell_type": "markdown",
   "id": "b288fc67-0d50-4fe3-bc72-193ccd06f872",
   "metadata": {},
   "source": [
    "##### 1. Create the table"
   ]
  },
  {
   "cell_type": "code",
   "execution_count": null,
   "id": "c37fa49f-d6e9-48a7-984a-7a6ac62aef71",
   "metadata": {},
   "outputs": [],
   "source": [
    "from google.cloud import bigquery\n",
    "\n",
    "client = bigquery.Client(project=PROJECT, location=REGION)\n",
    "\n",
    "ddl = '''CREATE OR REPLACE TABLE final_project.person(\n",
    "    id INT NOT NULL,\n",
    "    first_name STRING NOT NULL,\n",
    "    last_name STRING NOT NULL,\n",
    "    company STRING NOT NULL, \n",
    "    address STRING NOT NULL,\n",
    "    city STRING NOT NULL,\n",
    "    county STRING NOT NULL, \n",
    "    state STRING NOT NULL, \n",
    "    zip STRING NOT NULL,\n",
    "    phone_1 STRING NOT NULL,\n",
    "    phone_2 STRING NOT NULL,\n",
    "    email STRING NOT NULL,\n",
    "    web STRING NOT NULL)\n",
    "'''\n",
    "\n",
    "print(ddl)\n",
    "\n",
    "try:\n",
    "    query_job = client.query(ddl)\n",
    "    query_job.result()\n",
    "except Exception as e:\n",
    "    print(\"Error occurred while creating table:\", e)"
   ]
  },
  {
   "cell_type": "markdown",
   "id": "89ef0b12-21ce-4ffc-80b2-88fddee9ad97",
   "metadata": {},
   "source": [
    "##### 2. insert records into table"
   ]
  },
  {
   "cell_type": "code",
   "execution_count": null,
   "id": "c7f403eb-47f9-4e91-b768-caba7d14d424",
   "metadata": {},
   "outputs": [],
   "source": [
    "from google.cloud import bigquery\n",
    "\n",
    "client = bigquery.Client(project=PROJECT, location=REGION)\n",
    "\n",
    "sql = '''INSERT INTO final_project.person (id, first_name, last_name, \n",
    "         company, address, city, county, state, zip, phone_1,\n",
    "         phone_2, email, web) \n",
    "         VALUES \n",
    "         (1, \"James\",\"Butt\",\"Benton, John B Jr\",\"6649 N Blue Gum St\",\n",
    "        \"New Orleans\",\"Orleans\",\"LA\",\"70116\",\"504-621-8927\",\n",
    "        \"504-845-1427\",\"jbutt@gmail.com\",\"http://www.bentonjohnbjr.com\"),\n",
    "        (2, \"Josephine\",\"Darakjy\",\"Chanay, Jeffrey A Esq\",\n",
    "        \"4 B Blue Ridge Blvd\",\"Brighton\",\"Livingston\",\"MI\",\"48116\",\n",
    "        \"810-292-9388\",\"810-374-9840\",\"josephine_darakjy@darakjy.org\",\n",
    "        \"http://www.chanayjeffreyaesq.com\"),\n",
    "        (3, \"Art\",\"Venere\",\"Chemel, James L Cpa\",\"8 W Cerritos Ave #54\",\n",
    "        \"Bridgeport\",\"Gloucester\",\"NJ\",\"08014\",\n",
    "        \"856-636-8749\",\"856-264-4130\",\"art@venere.org\",\n",
    "        \"http://www.chemeljameslcpa.com\")'''\n",
    "\n",
    "print(sql)\n",
    "\n",
    "try:\n",
    "    query_job = client.query(sql)\n",
    "    query_job.result()\n",
    "    print('Wrote 3 records into person table')\n",
    "except Exception as e:\n",
    "    print(\"Error occurred while writing to table:\", e)"
   ]
  },
  {
   "cell_type": "code",
   "execution_count": null,
   "id": "d22c114c-a215-4ceb-972c-5ef6cf5f7331",
   "metadata": {},
   "outputs": [],
   "source": []
  }
 ],
 "metadata": {
  "environment": {
   "kernel": "conda-root-py",
   "name": "workbench-notebooks.m110",
   "type": "gcloud",
   "uri": "gcr.io/deeplearning-platform-release/workbench-notebooks:m110"
  },
  "kernelspec": {
   "display_name": "Python 3",
   "language": "python",
   "name": "conda-root-py"
  },
  "language_info": {
   "codemirror_mode": {
    "name": "ipython",
    "version": 3
   },
   "file_extension": ".py",
   "mimetype": "text/x-python",
   "name": "python",
   "nbconvert_exporter": "python",
   "pygments_lexer": "ipython3",
   "version": "3.10.12"
  }
 },
 "nbformat": 4,
 "nbformat_minor": 5
}
